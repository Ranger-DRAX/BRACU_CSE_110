{
 "cells": [
  {
   "cell_type": "markdown",
   "id": "dda7cf84",
   "metadata": {},
   "source": [
    "# Task-20 (ungraded)"
   ]
  },
  {
   "cell_type": "raw",
   "id": "217a4c60",
   "metadata": {},
   "source": [
    "# Task-20 (ungraded)\n",
    "# Given a list of tuples, your task is to multiply the elements of the tuple and return a list of\n",
    "multiplied elements as shown below.\n",
    "===================================================================\n",
    "Example 1:\n",
    "Given:\n",
    "[(2, 3), (4, 5), (6, 7), (2, 8)]\n",
    "Output:\n",
    "[6, 20, 42, 16]\n",
    "===================================================================\n",
    "Example 2:\n",
    "Given:\n",
    "[(11, 22), (33, 55), (55, 77), (11, 44)]\n",
    "Output:\n",
    "[242, 1815, 4235, 484]\n",
    "==================================================================="
   ]
  },
  {
   "cell_type": "code",
   "execution_count": 1,
   "id": "d0143597",
   "metadata": {},
   "outputs": [
    {
     "name": "stdout",
     "output_type": "stream",
     "text": [
      "[6, 20, 42, 16]\n"
     ]
    }
   ],
   "source": [
    "y=[(2, 3), (4, 5), (6, 7), (2, 8)]\n",
    "l=[]\n",
    "for x in y:\n",
    "    a=x[0]*x[1]\n",
    "    l.append(a)\n",
    "print(l)"
   ]
  },
  {
   "cell_type": "markdown",
   "id": "d25112f1",
   "metadata": {},
   "source": [
    "# Task 21 (ungraded)"
   ]
  },
  {
   "cell_type": "raw",
   "id": "5f9b4dc4",
   "metadata": {},
   "source": [
    "Assume, you have been given a tuple as below.\n",
    "a_tuple = ( [1, 2, 3], [4, 5, 6], [7, 8, 9], [10, 11, 12])\n",
    "Write a Python program that asks the user for an input (can be any data type) and replaces the\n",
    "last element of each of the inner lists with the user given value.\n",
    "===================================================================\n",
    "Sample Input 1:\n",
    "abc\n",
    "Sample Output 1:\n",
    "([1, 2, 'abc'], [4, 5, 'abc'], [7, 8, 'abc'], [10, 11, 'abc'])\n",
    "===================================================================\n",
    "Sample Input 1:\n",
    "1000\n",
    "Sample Output 1:\n",
    "([1, 2, '1000'], [4, 5, '1000'], [7, 8, '1000'], [10, 11, '1000'])\n",
    "===================================================================\n",
    "\n",
    " \n"
   ]
  },
  {
   "cell_type": "code",
   "execution_count": 1,
   "id": "332db8c9",
   "metadata": {},
   "outputs": [
    {
     "name": "stdout",
     "output_type": "stream",
     "text": [
      "addad\n",
      "([1, 2, 'addad'], [4, 5, 'addad'], [7, 8, 'addad'], [10, 11, 'addad'])\n"
     ]
    }
   ],
   "source": [
    "a = ( [1, 2, 3], [4, 5, 6], [7, 8, 9], [10, 11, 12])\n",
    "text=input()\n",
    "for x in range(len(a)):\n",
    "    a[x][2] = text\n",
    "print(a)\n"
   ]
  },
  {
   "cell_type": "raw",
   "id": "2371ad8c",
   "metadata": {},
   "source": []
  },
  {
   "cell_type": "markdown",
   "id": "bd36a057",
   "metadata": {},
   "source": [
    "# Task-22(ungraded)"
   ]
  },
  {
   "cell_type": "code",
   "execution_count": 2,
   "id": "97a583c6",
   "metadata": {},
   "outputs": [
    {
     "name": "stdout",
     "output_type": "stream",
     "text": [
      "{'c1': 'Red', 'c2': 'Green', 'd4': 'Blue'}\n"
     ]
    }
   ],
   "source": [
    "my_dictionary = {'c1':'Red', 'c2':'Green', 'c3':None, 'd4':'Blue', 'a5':None}\n",
    "d={}\n",
    "for x,y in my_dictionary.items():\n",
    "    if y !=None:\n",
    "        d[x]=y\n",
    "print(d)"
   ]
  },
  {
   "cell_type": "code",
   "execution_count": 4,
   "id": "a4ab944c",
   "metadata": {
    "scrolled": true
   },
   "outputs": [
    {
     "name": "stdout",
     "output_type": "stream",
     "text": [
      "aiohoiaf\n",
      "([1, 2, 'aiohoiaf'], [4, 5, 'aiohoiaf'], [7, 8, 'aiohoiaf'], [10, 11, 'aiohoiaf'])\n"
     ]
    }
   ],
   "source": [
    "#task -21\n",
    "a = ( [1, 2, 3], [4, 5, 6], [7, 8, 9], [10, 11, 12])\n",
    "text=input()\n",
    "for x in a:\n",
    "    x[2]=text\n",
    "print(a)\n",
    "\n"
   ]
  },
  {
   "cell_type": "markdown",
   "id": "7db7de9d",
   "metadata": {},
   "source": [
    "# Task-23(ungraded)"
   ]
  },
  {
   "cell_type": "code",
   "execution_count": null,
   "id": "58d82121",
   "metadata": {},
   "outputs": [],
   "source": [
    "k= {'a' : 6, 'b' : 7, 'c' : 9, 'd' : 8, 'e' : 11, 'f' : 12, 'g' : 13}\n",
    "a, b = map(int, input().split(','))\n",
    "d={}\n",
    "for x,y in k.items():\n",
    "    if y>=a and y<b:\n",
    "        d[x]=y\n",
    "print(d)\n"
   ]
  },
  {
   "cell_type": "markdown",
   "id": "5b8a0992",
   "metadata": {},
   "source": [
    "# Task-24(ungraded)***problem***"
   ]
  },
  {
   "cell_type": "code",
   "execution_count": 5,
   "id": "6ff2dbbd",
   "metadata": {},
   "outputs": [
    {
     "ename": "IndentationError",
     "evalue": "expected an indented block (Temp/ipykernel_4964/2188317498.py, line 8)",
     "output_type": "error",
     "traceback": [
      "\u001b[1;36m  File \u001b[1;32m\"C:\\Users\\thund\\AppData\\Local\\Temp/ipykernel_4964/2188317498.py\"\u001b[1;36m, line \u001b[1;32m8\u001b[0m\n\u001b[1;33m    d[x[1]].append(y[1])\u001b[0m\n\u001b[1;37m    ^\u001b[0m\n\u001b[1;31mIndentationError\u001b[0m\u001b[1;31m:\u001b[0m expected an indented block\n"
     ]
    }
   ],
   "source": [
    "k=[(20, 80), (31, 80), (1, 22), (88, 11), (27, 11)]\n",
    "d={}\n",
    "for x in k:\n",
    "    l=[]\n",
    "    for y in k:\n",
    "        if x[1] in y:\n",
    "            l.append(y)\n",
    "    d[x[1]]=l\n",
    "print(d)\n",
    "\n"
   ]
  },
  {
   "cell_type": "code",
   "execution_count": null,
   "id": "fcd8dcfc",
   "metadata": {},
   "outputs": [],
   "source": []
  }
 ],
 "metadata": {
  "kernelspec": {
   "display_name": "Python 3 (ipykernel)",
   "language": "python",
   "name": "python3"
  },
  "language_info": {
   "codemirror_mode": {
    "name": "ipython",
    "version": 3
   },
   "file_extension": ".py",
   "mimetype": "text/x-python",
   "name": "python",
   "nbconvert_exporter": "python",
   "pygments_lexer": "ipython3",
   "version": "3.9.7"
  }
 },
 "nbformat": 4,
 "nbformat_minor": 5
}
