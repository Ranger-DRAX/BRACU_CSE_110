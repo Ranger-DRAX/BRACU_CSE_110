{
 "cells": [
  {
   "cell_type": "markdown",
   "id": "418e72ab",
   "metadata": {},
   "source": [
    "# 1"
   ]
  },
  {
   "cell_type": "code",
   "execution_count": null,
   "id": "c8235bdb",
   "metadata": {},
   "outputs": [],
   "source": [
    "a_tuple = (\"The Institute\", (\"Best Mystery & Thriller\", \"The Silent Patient\", 68821), 75717,\n",
    "[1, 2, 3, 400, 5, 6, 7], (\"Best Fiction\", \"The Testaments\", 98291))\n",
    "print(a_tuple[3][3])"
   ]
  },
  {
   "cell_type": "markdown",
   "id": "a5c5c057",
   "metadata": {},
   "source": [
    "# 2"
   ]
  },
  {
   "cell_type": "code",
   "execution_count": null,
   "id": "9dd0211a",
   "metadata": {},
   "outputs": [],
   "source": [
    "k=tuple(map(int,input().split(',')))\n",
    "if len(k)>4:\n",
    "    print(k[2:-2])\n",
    "else:\n",
    "    print('()')"
   ]
  },
  {
   "cell_type": "markdown",
   "id": "4030d1a7",
   "metadata": {},
   "source": [
    "# 3"
   ]
  },
  {
   "cell_type": "code",
   "execution_count": null,
   "id": "d671c21f",
   "metadata": {},
   "outputs": [],
   "source": [
    "book_info = (\n",
    "(\"Best Mystery & Thriller\",\"The Silent Patient\",68,821),\n",
    "(\"Best Horror\",\"The Institute\",75,717),\n",
    "(\"Best History & Biography\",\"The five\",31,783 ),\n",
    "(\"Best Fiction\",\"The Testaments\",98,291)\n",
    ")\n",
    "print('size of tuple is:',len(book_info))\n",
    "for x in book_info:\n",
    "    print(x)"
   ]
  },
  {
   "cell_type": "markdown",
   "id": "e242f7c5",
   "metadata": {},
   "source": [
    "# 4"
   ]
  },
  {
   "cell_type": "code",
   "execution_count": null,
   "id": "6227e582",
   "metadata": {},
   "outputs": [],
   "source": [
    "book_info = (\n",
    "(\"Best Mystery & Thriller\",\"The Silent Patient\",68821),\n",
    "(\"Best Horror\",\"The Institute\",75717),\n",
    "(\"Best History & Biography\",\"The five\",31783 ),\n",
    "(\"Best Fiction\",\"The Testaments\",98291)\n",
    ")\n",
    "print('The Silent Patient won the',book_info[0][0],'category with',book_info[0][2],'votes')\n",
    "print('The Institute won the',book_info[1][0],'category with',book_info[1][2],'votes')\n",
    "print('The five won the',book_info[2][0],'category with',book_info[2][2],'votes')\n",
    "print('The Testaments won the',book_info[3][0],'category with',book_info[3][2],'votes')"
   ]
  },
  {
   "cell_type": "markdown",
   "id": "3e6fc783",
   "metadata": {},
   "source": [
    "# 5"
   ]
  },
  {
   "cell_type": "code",
   "execution_count": null,
   "id": "111cded6",
   "metadata": {},
   "outputs": [],
   "source": [
    "p=(10, 8, 5, 2, 10, 15, 10, 8, 5, 8, 8, 2)\n",
    "q=p.count(int(input()))\n",
    "print(q"
   ]
  },
  {
   "cell_type": "markdown",
   "id": "48f7a584",
   "metadata": {},
   "source": [
    "# 6"
   ]
  },
  {
   "cell_type": "code",
   "execution_count": null,
   "id": "b26d9a2d",
   "metadata": {},
   "outputs": [],
   "source": [
    "a=('a', 'b', 'c', 'd', 'e', 'f', 'g', 'h')\n",
    "b=list(a)\n",
    "print(b[::-1])"
   ]
  },
  {
   "cell_type": "markdown",
   "id": "9e77d0e2",
   "metadata": {},
   "source": [
    "# 7"
   ]
  },
  {
   "cell_type": "code",
   "execution_count": null,
   "id": "96a724fe",
   "metadata": {},
   "outputs": [],
   "source": [
    "k={'Harry':15, 'Draco':8, 'Nevil':19}\n",
    "l={'Ginie':18, 'Luna': 14}\n",
    "k.update(l)\n",
    "print(k)"
   ]
  },
  {
   "cell_type": "markdown",
   "id": "bbf2bcba",
   "metadata": {},
   "source": [
    "# 8"
   ]
  },
  {
   "cell_type": "code",
   "execution_count": null,
   "id": "0e401330",
   "metadata": {},
   "outputs": [],
   "source": [
    "n=int(input(\"How many elements  do you wanna input?\"))\n",
    "d={}\n",
    "for x in range(n):\n",
    "    a=input()#keys\n",
    "    b=int(input())#values\n",
    "    d[a]=b\n",
    "l=[]\n",
    "for i in d.values():\n",
    "    l.append(int(i))\n",
    "sum=0\n",
    "for j in l:\n",
    "    sum+=j\n",
    "k=sum/len(l)\n",
    "print(\"Average is:\",int(k))"
   ]
  },
  {
   "cell_type": "markdown",
   "id": "d7e28d60",
   "metadata": {},
   "source": [
    "# 9"
   ]
  },
  {
   "cell_type": "code",
   "execution_count": null,
   "id": "b49707d5",
   "metadata": {},
   "outputs": [],
   "source": [
    "exam_marks = {'Cierra Vega': 175, 'Alden Cantrell': 200, 'Kierra Gentry': 165, 'Pierre Cox': 190}\n",
    "n=int(input())\n",
    "d={}\n",
    "for x,y in exam_marks.items():# x,y indicates to---key:values----x:y\n",
    "    if y>n:\n",
    "        d.update({x:y})\n",
    "print(d)"
   ]
  },
  {
   "cell_type": "markdown",
   "id": "59fb8766",
   "metadata": {},
   "source": [
    "# 10"
   ]
  },
  {
   "cell_type": "code",
   "execution_count": null,
   "id": "83d7c985",
   "metadata": {},
   "outputs": [],
   "source": [
    "p={'sci fi': 12, 'mystery': 15, 'horror': 8, 'mythology': 10, 'young_adult': 4, 'adventure':14}\n",
    "g=0\n",
    "a=''\n",
    "for x,y in p.items():\n",
    "    if y>g:\n",
    "        g = y\n",
    "        a=x\n",
    "print('The highest selling book genre is',a,'the number of books sold are',g)"
   ]
  },
  {
   "cell_type": "markdown",
   "id": "ed22f5a4",
   "metadata": {},
   "source": [
    "# 11"
   ]
  },
  {
   "cell_type": "code",
   "execution_count": null,
   "id": "b313bf5c",
   "metadata": {},
   "outputs": [],
   "source": [
    "txt=input()\n",
    "d={}            #dictionary- key:value\n",
    "l=list(txt.lower())\n",
    "for x in l:\n",
    "    if ord(x) >= 97 and ord(x) <= 122:\n",
    "        u=l.count(x)\n",
    "        d[x]=u\n",
    "print(d)"
   ]
  },
  {
   "cell_type": "markdown",
   "id": "d726bfca",
   "metadata": {},
   "source": [
    "# 12"
   ]
  },
  {
   "cell_type": "code",
   "execution_count": null,
   "id": "6149311c",
   "metadata": {},
   "outputs": [],
   "source": [
    "d = {'A': [1, 2, 3], 'b': ['1', '2'], \"c\": [4, 5, 6, 7]}\n",
    "k=d.values()\n",
    "s=0\n",
    "for x in k:\n",
    "   for y in x:\n",
    "       s+=1\n",
    "print(s)"
   ]
  },
  {
   "cell_type": "markdown",
   "id": "2c9c20fd",
   "metadata": {},
   "source": [
    "# 13"
   ]
  },
  {
   "cell_type": "code",
   "execution_count": null,
   "id": "beafef7e",
   "metadata": {},
   "outputs": [],
   "source": [
    "list = [(\"a\", 1), (\"b\", 2), (\"a\", 3), (\"b\", 1), (\"a\", 2), (\"c\", 1)]\n",
    "d={}\n",
    "for x in list:\n",
    "    d[x[0]]=[]\n",
    "for y in list:\n",
    "    d[y[0]].append(y[1])\n",
    "print(d)"
   ]
  },
  {
   "cell_type": "code",
   "execution_count": null,
   "id": "5b924ede",
   "metadata": {},
   "outputs": [],
   "source": [
    "#14"
   ]
  },
  {
   "cell_type": "code",
   "execution_count": null,
   "id": "0067dfab",
   "metadata": {},
   "outputs": [],
   "source": []
  },
  {
   "cell_type": "code",
   "execution_count": null,
   "id": "30dc2e3c",
   "metadata": {},
   "outputs": [],
   "source": [
    "#15"
   ]
  },
  {
   "cell_type": "code",
   "execution_count": null,
   "id": "6022cd28",
   "metadata": {},
   "outputs": [],
   "source": []
  }
 ],
 "metadata": {
  "kernelspec": {
   "display_name": "Python 3 (ipykernel)",
   "language": "python",
   "name": "python3"
  },
  "language_info": {
   "codemirror_mode": {
    "name": "ipython",
    "version": 3
   },
   "file_extension": ".py",
   "mimetype": "text/x-python",
   "name": "python",
   "nbconvert_exporter": "python",
   "pygments_lexer": "ipython3",
   "version": "3.9.7"
  }
 },
 "nbformat": 4,
 "nbformat_minor": 5
}
