{
 "cells": [
  {
   "cell_type": "markdown",
   "id": "d0bfc44a",
   "metadata": {},
   "source": [
    "# CSE110_Assignment_6"
   ]
  },
  {
   "cell_type": "markdown",
   "id": "0625ac28",
   "metadata": {},
   "source": [
    "# Task_1"
   ]
  },
  {
   "cell_type": "code",
   "execution_count": 1,
   "id": "ec1941f9",
   "metadata": {},
   "outputs": [
    {
     "name": "stdout",
     "output_type": "stream",
     "text": [
      "Odd!!\n"
     ]
    }
   ],
   "source": [
    "def even_checker(n):\n",
    "    if n%2==0:\n",
    "        print('Even!!')\n",
    "    else:\n",
    "        print('Odd!!')\n",
    "even_checker(5)"
   ]
  },
  {
   "cell_type": "markdown",
   "id": "41a5b000",
   "metadata": {},
   "source": [
    "# Task-2\n"
   ]
  },
  {
   "cell_type": "code",
   "execution_count": 1,
   "id": "15d41eb4",
   "metadata": {},
   "outputs": [
    {
     "name": "stdout",
     "output_type": "stream",
     "text": [
      "0 1 1 2 3 5 8 "
     ]
    }
   ],
   "source": [
    "def fibonacci(num):\n",
    "    x,y=0,1\n",
    "    while x<=num:\n",
    "        print(x, end=' ')\n",
    "        a = x\n",
    "        x = y\n",
    "        y = a + y\n",
    "fibonacci(10)\n"
   ]
  },
  {
   "cell_type": "markdown",
   "id": "5aa29112",
   "metadata": {},
   "source": [
    "# Task-3\n"
   ]
  },
  {
   "cell_type": "code",
   "execution_count": null,
   "id": "33d6c019",
   "metadata": {},
   "outputs": [],
   "source": [
    "def foo_moo(n):\n",
    "    if n%2==0 and n%2==0:\n",
    "        print(\"FooMoo\")\n",
    "    elif n%2==0:\n",
    "        print(\"Foo\")\n",
    "    elif n%3==0:\n",
    "        print(\"Moo\")\n",
    "    else:\n",
    "        print(\"Boo\")\n",
    "foo_moo(6)\n"
   ]
  },
  {
   "cell_type": "markdown",
   "id": "942c8859",
   "metadata": {},
   "source": [
    "# Task- 4"
   ]
  },
  {
   "cell_type": "code",
   "execution_count": null,
   "id": "f1c232aa",
   "metadata": {},
   "outputs": [],
   "source": [
    "def function_name(txt):\n",
    "    a = 0\n",
    "    b = 0\n",
    "    for i in txt:\n",
    "        if ord(i)>=65 and ord(i)<=90:\n",
    "            a+=1\n",
    "        elif ord(i)>=97 and ord(i)<=122:\n",
    "            b+=1\n",
    "    print('No. of Uppercase characters :',a)\n",
    "    print('No. of Lowercase Characters:',b)\n",
    "function_name('HaRRy PotteR')"
   ]
  },
  {
   "cell_type": "markdown",
   "id": "4469c052",
   "metadata": {},
   "source": [
    "# Task-5"
   ]
  },
  {
   "cell_type": "code",
   "execution_count": null,
   "id": "0a21792b",
   "metadata": {},
   "outputs": [],
   "source": [
    "def calculate_tax(age,salary,current_job):\n",
    "    if current_job.lower()=='president':\n",
    "        print(0)\n",
    "    elif age<18:\n",
    "        print(0)\n",
    "    elif salary<10000:\n",
    "        print(0)\n",
    "    elif salary>10000 and salary<20000:\n",
    "        print('your tax:',salary*(5/100))\n",
    "    elif salary>20000:\n",
    "        print('your tax:',salary*(10/100))\n",
    "a=int(input())\n",
    "b=int(input())\n",
    "c=input()\n",
    "calculate_tax(a,b,c)"
   ]
  },
  {
   "cell_type": "markdown",
   "id": "f27a6141",
   "metadata": {},
   "source": [
    "# Task-6"
   ]
  },
  {
   "cell_type": "code",
   "execution_count": 1,
   "id": "d8ac131c",
   "metadata": {},
   "outputs": [
    {
     "name": "stdout",
     "output_type": "stream",
     "text": [
      "2250\n",
      "6 years, 2 months, 0 days\n"
     ]
    }
   ],
   "source": [
    "days=int(input())\n",
    "def date_function(num):\n",
    "    year=days//365\n",
    "    month=(days%365)//30\n",
    "    day=(days%365)%30\n",
    "    print(year,'years,',month,'months,',day,'days')\n",
    "date_function(days)"
   ]
  },
  {
   "cell_type": "markdown",
   "id": "82aced32",
   "metadata": {},
   "source": [
    "# Task7"
   ]
  },
  {
   "cell_type": "code",
   "execution_count": null,
   "id": "d59a7093",
   "metadata": {},
   "outputs": [],
   "source": [
    "def show_palindrome(num):\n",
    "    k=''\n",
    "    for x in range(1, num + 1):\n",
    "        k+=str(x)\n",
    "    for y in range(num - 1, 0, -1):\n",
    "        k+=str(y)\n",
    "    return k\n",
    "print(show_palindrome(5))"
   ]
  },
  {
   "cell_type": "markdown",
   "id": "1e05cf78",
   "metadata": {},
   "source": [
    "# Task8"
   ]
  },
  {
   "cell_type": "code",
   "execution_count": 2,
   "id": "c7e25ff3",
   "metadata": {},
   "outputs": [
    {
     "name": "stdout",
     "output_type": "stream",
     "text": [
      "3\n",
      "    1 \n",
      "  1 2 1 \n",
      "1 2 3 2 1 \n"
     ]
    }
   ],
   "source": [
    "def showPalindromicTriangle(number):\n",
    "    for row in range(1,num+1):\n",
    "        for space in range(0,num-row):\n",
    "            print(' ',end=' ')\n",
    "        for i in range(1,row+1):\n",
    "            print(i ,end=' ')\n",
    "        for a in range(row-1,0,-1):\n",
    "            print(a, end=' ')\n",
    "        print()\n",
    "num=int(input())\n",
    "showPalindromicTriangle(num)"
   ]
  },
  {
   "cell_type": "markdown",
   "id": "6c80448b",
   "metadata": {},
   "source": [
    "# Task-9"
   ]
  },
  {
   "cell_type": "code",
   "execution_count": 1,
   "id": "57d11602",
   "metadata": {},
   "outputs": [
    {
     "name": "stdout",
     "output_type": "stream",
     "text": [
      "Area of the circle is : 12.566370614359172 and circumference is 12.566370614359172\n"
     ]
    }
   ],
   "source": [
    "import math\n",
    "def area_circumference_generator(r):\n",
    "    area=math.pi*(r**2)\n",
    "    circumference=2*math.pi*r\n",
    "    print('Area of the circle is :',area,'and circumference is',circumference)\n",
    "area_circumference_generator(2)"
   ]
  },
  {
   "cell_type": "markdown",
   "id": "5c55fb8d",
   "metadata": {},
   "source": [
    "# Task-10"
   ]
  },
  {
   "cell_type": "code",
   "execution_count": 2,
   "id": "8d1bdd12",
   "metadata": {},
   "outputs": [
    {
     "name": "stdout",
     "output_type": "stream",
     "text": [
      "{5: 25, 6: 36, 7: 49, 8: 64, 9: 81}\n"
     ]
    }
   ],
   "source": [
    "def make_square(tuple):\n",
    "    a,b=tuple\n",
    "    d={}\n",
    "    for x in range(a,b+1):\n",
    "        d[x]=x**2\n",
    "    return d\n",
    "print(make_square((5,9)))"
   ]
  },
  {
   "cell_type": "markdown",
   "id": "28632c51",
   "metadata": {},
   "source": [
    "# Task-11"
   ]
  },
  {
   "cell_type": "code",
   "execution_count": 3,
   "id": "6f8b5cb9",
   "metadata": {},
   "outputs": [
    {
     "name": "stdout",
     "output_type": "stream",
     "text": [
      "(1, 2, 3, 4, 5, 6, 0)\n",
      "('Hi', 1, 2, 3, 'a', [1, 2])\n"
     ]
    }
   ],
   "source": [
    "def rem_duplicate(big_tuple):\n",
    "    l1=list(big_tuple)\n",
    "    empty_list=[]\n",
    "    for x in l1:\n",
    "        if x not in empty_list:\n",
    "            empty_list.append(x)\n",
    "    expected_tuple=tuple(empty_list)\n",
    "    return expected_tuple\n",
    "print(rem_duplicate((1,1,1,2,3,4,5,6,6,6,6,4,0,0,0)))\n",
    "print(rem_duplicate((\"Hi\", 1, 2, 3, 3, \"Hi\",'a', 'a', [1,2])))"
   ]
  },
  {
   "cell_type": "markdown",
   "id": "1d7376f9",
   "metadata": {},
   "source": [
    "# Task-12"
   ]
  },
  {
   "cell_type": "code",
   "execution_count": null,
   "id": "e860f712",
   "metadata": {},
   "outputs": [],
   "source": [
    "def list_game(listx):\n",
    "    new_list=[]\n",
    "    c=0\n",
    "    for x in listx:\n",
    "        if new_list.count(x)<2:\n",
    "            new_list.append(x)\n",
    "        else:\n",
    "            c+=1\n",
    "    print(\"Removed:\",c)\n",
    "    return new_list\n",
    "print(list_game([1, 2, 3, 3, 3, 3, 4, 5, 8, 8]))\n",
    "print(list_game([10, 10, 15, 15, 20]))"
   ]
  },
  {
   "cell_type": "markdown",
   "id": "0d143a35",
   "metadata": {},
   "source": [
    "# Task-13"
   ]
  },
  {
   "cell_type": "code",
   "execution_count": null,
   "id": "9142f3cc",
   "metadata": {},
   "outputs": [],
   "source": [
    "def calculation_demo(symbol,num1,num2):\n",
    "    if symbol=='+':\n",
    "        return num1+num2\n",
    "    elif symbol=='-':\n",
    "        return num1-num2\n",
    "    elif symbol=='/':\n",
    "        return num1/num2\n",
    "    elif symbol=='*':\n",
    "        return num1*num2\n",
    "sign=input()\n",
    "n1=int(input())\n",
    "n2=int(input())\n",
    "print(calculation_demo(sign,n1,n2))"
   ]
  },
  {
   "cell_type": "markdown",
   "id": "56937787",
   "metadata": {},
   "source": [
    "# Task-14"
   ]
  },
  {
   "cell_type": "code",
   "execution_count": null,
   "id": "3b3bbd94",
   "metadata": {},
   "outputs": [],
   "source": [
    "def setence_modifier(sentence,position):\n",
    "    stringx=sentence[0]\n",
    "    remove=''\n",
    "    for x in range(1,len(sentence)):\n",
    "        if x % position==0:\n",
    "\n",
    "            remove+=sentence[x]\n",
    "        else:\n",
    "            stringx += sentence[x]\n",
    "    stringy=stringx+remove\n",
    "    return stringy\n",
    "text=input()\n",
    "num=int(input())\n",
    "print(setence_modifier(text,num))\n"
   ]
  },
  {
   "cell_type": "markdown",
   "id": "b0a0f75b",
   "metadata": {},
   "source": [
    "# Task-15"
   ]
  },
  {
   "cell_type": "code",
   "execution_count": null,
   "id": "0b661876",
   "metadata": {},
   "outputs": [],
   "source": [
    "def grocery_app(order_items,location):\n",
    "    sum=0\n",
    "    price = {\"Rice\": 105, \"Potato\": 20, \"Chicken\": 250, \"Beef\": 510, \"Oil\": 85}\n",
    "    for x in order_items:\n",
    "        if x in price.keys():\n",
    "            sum+=price[x]\n",
    "    if location=='Dhanmondi':\n",
    "        sum+=30\n",
    "    elif location=='':\n",
    "        sum+=70\n",
    "    else:\n",
    "        sum+=70\n",
    "    return sum\n",
    "listx=[]\n",
    "input_food=input().split(',')\n",
    "for i in input_food:\n",
    "    listx.append(i)\n",
    "print(grocery_app(listx,\"Mohakhali\"))\n"
   ]
  },
  {
   "cell_type": "markdown",
   "id": "d81d4332",
   "metadata": {},
   "source": [
    "# UNGRADED"
   ]
  },
  {
   "cell_type": "markdown",
   "id": "104028c3",
   "metadata": {},
   "source": [
    "# task-28"
   ]
  },
  {
   "cell_type": "code",
   "execution_count": null,
   "id": "05808e08",
   "metadata": {},
   "outputs": [],
   "source": [
    "def cal_bonus(name,yearly_earning,total_goal,bonus_percent_per_goal):\n",
    "    b=total_goal*((bonus_percent_per_goal/100)*yearly_earning)\n",
    "    s=0\n",
    "    if total_goal>30:\n",
    "        b+=10000\n",
    "        s+=b\n",
    "    elif total_goal>20 and total_goal<30:\n",
    "        b+=5000\n",
    "        s+=b\n",
    "    else:\n",
    "        s+=b\n",
    "\n",
    "    print(name,\"earned a bonus of\",s,'taka for',total_goal,'goals')\n",
    "def perfect_cal_bonus(*arg):\n",
    "    for x in range(0,len(arg),4):\n",
    "        name=arg[x]\n",
    "        yearly_earning=arg[x+1]\n",
    "        total_goal=arg[x+2]\n",
    "        bonus_percent_per_goal=arg[x+3]\n",
    "\n",
    "        cal_bonus(name, yearly_earning, total_goal, bonus_percent_per_goal)\n",
    "perfect_cal_bonus(\"Neymar\", 1200000, 35, 5, 'Jamal', 700000, 19, 8, 'Luis', 80000, 25, 10)\n",
    "\n",
    "\n"
   ]
  },
  {
   "cell_type": "code",
   "execution_count": null,
   "id": "4258c30e",
   "metadata": {},
   "outputs": [],
   "source": []
  }
 ],
 "metadata": {
  "kernelspec": {
   "display_name": "Python 3 (ipykernel)",
   "language": "python",
   "name": "python3"
  },
  "language_info": {
   "codemirror_mode": {
    "name": "ipython",
    "version": 3
   },
   "file_extension": ".py",
   "mimetype": "text/x-python",
   "name": "python",
   "nbconvert_exporter": "python",
   "pygments_lexer": "ipython3",
   "version": "3.9.7"
  }
 },
 "nbformat": 4,
 "nbformat_minor": 5
}
