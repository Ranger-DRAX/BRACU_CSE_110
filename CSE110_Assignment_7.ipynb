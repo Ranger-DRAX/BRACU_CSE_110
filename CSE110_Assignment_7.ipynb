{
 "cells": [
  {
   "cell_type": "markdown",
   "id": "e2947ae5",
   "metadata": {},
   "source": [
    "# Assignment_07\n"
   ]
  },
  {
   "cell_type": "markdown",
   "id": "97f56aa3",
   "metadata": {},
   "source": [
    "# Task-1"
   ]
  },
  {
   "cell_type": "code",
   "execution_count": null,
   "id": "e7ff77dd",
   "metadata": {},
   "outputs": [],
   "source": [
    "my_list=[10, 1, 20, 3, 6, 2, 5, 11, 15, 2, 12, 14, 17, 18, 29]\n",
    "for i in range(len(my_list)):\n",
    "    for j in range(i + 1, len(my_list)):\n",
    "        if my_list[i] > my_list[j]:\n",
    "            my_list[i], my_list[j] = my_list[j], my_list[i]\n",
    "print (my_list) "
   ]
  },
  {
   "cell_type": "markdown",
   "id": "16a9b23e",
   "metadata": {},
   "source": [
    "# Task-2"
   ]
  },
  {
   "cell_type": "code",
   "execution_count": null,
   "id": "9494cddb",
   "metadata": {},
   "outputs": [],
   "source": [
    "my_list=[10,1,20,3,6,2,5,11,15,2,12,14,17,18,29]\n",
    "for i in range(len(my_list)):\n",
    "    minimum_value=my_list[i]\n",
    "    minimum_index=i\n",
    "    for value in range(i + 1, len(my_list)):\n",
    "        if my_list[value]<minimum_value:\n",
    "            minimum_value=my_list[value]\n",
    "            minimum_index=value\n",
    "    g=my_list[minimum_index]\n",
    "    my_list[minimum_index]=my_list[i]\n",
    "    my_list[i]=g\n",
    "print(my_list)"
   ]
  },
  {
   "cell_type": "markdown",
   "id": "10a94661",
   "metadata": {},
   "source": [
    "# task-3"
   ]
  },
  {
   "cell_type": "code",
   "execution_count": null,
   "id": "9510c403",
   "metadata": {},
   "outputs": [],
   "source": [
    "my_list=[10,1,20,3,6,2,5,11,15,2,12,14,17,18,29]\n",
    "for i in range(0, len(my_list) - 1):\n",
    "    maximum_value=my_list[i]\n",
    "    maximum_index=i\n",
    "    for value in range(i, len(my_list)):\n",
    "        if my_list[value]>maximum_value:\n",
    "            maximum_value=my_list[value]\n",
    "            maximum_index=value\n",
    "    g_g=maximum_value\n",
    "    my_list[maximum_index]= my_list[i]\n",
    "    my_list[i]=g_g\n",
    "print(my_list)"
   ]
  },
  {
   "cell_type": "markdown",
   "id": "ab4d07e2",
   "metadata": {},
   "source": [
    "# task-4"
   ]
  },
  {
   "cell_type": "code",
   "execution_count": null,
   "id": "4cca4b30",
   "metadata": {},
   "outputs": [],
   "source": [
    "sitting_list=[10,30,20,70,11,15,22,16,58,100,12,56,70,80]\n",
    "list1=[]\n",
    "list2=[]\n",
    "sorted_list=[]\n",
    "counter1=0\n",
    "counter2=0\n",
    "for even_index in range(0,len(sitting_list),2):\n",
    "    list1.append(sitting_list[even_index])\n",
    "for odd_index in range(1,len(sitting_list),2):\n",
    "    list2.append(sitting_list[odd_index])\n",
    "sorted_list1=sorted(list1)\n",
    "sorted_list2=sorted(list2,reverse=True)#wiil reverse the sorting\n",
    "for i in range(len(sitting_list)):\n",
    "    if i%2==0:\n",
    "        sorted_list.append(sorted_list1[counter1])\n",
    "        counter1+=1\n",
    "    else:\n",
    "        sorted_list.append(sorted_list2[counter2])\n",
    "        counter2+=1\n",
    "print(sorted_list)"
   ]
  },
  {
   "cell_type": "markdown",
   "id": "fdea4716",
   "metadata": {},
   "source": [
    "# task-5"
   ]
  },
  {
   "cell_type": "code",
   "execution_count": 3,
   "id": "80a4ad5d",
   "metadata": {},
   "outputs": [
    {
     "name": "stdout",
     "output_type": "stream",
     "text": [
      "CSE110\n",
      "Alan\n",
      "Turing\n",
      "Elon\n",
      "Musk\n"
     ]
    }
   ],
   "source": [
    "def sorted_course(listx, course_name):\n",
    "  a = 0\n",
    "  if course_name == 'CSE110':\n",
    "    a = 1\n",
    "  elif course_name == 'PHY111':\n",
    "    a = 2\n",
    "  else:\n",
    "    a = 3\n",
    "  for x in range(len(listx) - 1):\n",
    "    for y in range(len(listx) - x - 1):\n",
    "      curr = listx[y][a]\n",
    "      next =listx[y+1][a]\n",
    "      if int(curr) < int(next):\n",
    "        k = listx[y]\n",
    "        listx[y] = listx[y+1]\n",
    "        listx[y+1] = k\n",
    "given_list = [ [\"Alan\", 95, 87, 91], [\"Turing\", 92, 90, 83], [\"Elon\", 87, 92, 80], [\"Musk\", 85, 94, 90] ]\n",
    "course = input()\n",
    "sorted_course(given_list, course)\n",
    "for i in given_list:\n",
    "  print(i[0])"
   ]
  },
  {
   "cell_type": "markdown",
   "id": "0057dcfb",
   "metadata": {},
   "source": [
    "# task-6"
   ]
  },
  {
   "cell_type": "code",
   "execution_count": 1,
   "id": "d42d6d16",
   "metadata": {},
   "outputs": [
    {
     "name": "stdout",
     "output_type": "stream",
     "text": [
      "4\n"
     ]
    }
   ],
   "source": [
    "my_list = [4, 2, 3, 1, 6, 5]\n",
    "counter=0\n",
    "for x in range(len(my_list)):\n",
    "    minimum_value=my_list[x]\n",
    "    minimum_index=x\n",
    "    for value in range(x + 1, len(my_list)):\n",
    "        if my_list[x]>value:\n",
    "            minimum_value=my_list[value]\n",
    "            minimum_index=value\n",
    "            counter+=1\n",
    "    t=value\n",
    "    my_list[value]=my_list[x]\n",
    "    my_list[x]=t\n",
    "print(counter)"
   ]
  },
  {
   "cell_type": "markdown",
   "id": "9fe44d4c",
   "metadata": {},
   "source": [
    "# task-7"
   ]
  },
  {
   "cell_type": "code",
   "execution_count": 2,
   "id": "6852b0b3",
   "metadata": {},
   "outputs": [
    {
     "name": "stdout",
     "output_type": "stream",
     "text": [
      "1,8545,8,48,485,496,4874,874\n",
      "54,559,485,4894,85\n",
      "[1, 8, 48, 54, 85, 485, 485, 496, 559, 874, 4874, 4894, 8545]\n",
      "median= 485\n"
     ]
    }
   ],
   "source": [
    "list_one=list(map(int,input().split(',')))\n",
    "list_two=list(map(int,input().split(',')))\n",
    "list_d=list_one+list_two\n",
    "for i in range(len(list_d)):\n",
    "    for j in range(i + 1, len(list_d)):\n",
    "        if list_d[i] > list_d[j]:\n",
    "            list_d[i], list_d[j] = list_d[j], list_d[i]\n",
    "print (list_d)\n",
    "median_index = 0\n",
    "if len(list_d) % 2 != 0:\n",
    "    median_index = list_d[len(list_d) // 2]\n",
    "else:\n",
    "    median_index =((list_d[(len(list_d) // 2)] + list_d[((len(list_d) // 2) - 1)]))/2\n",
    "print(\"median=\",median_index)"
   ]
  },
  {
   "cell_type": "markdown",
   "id": "46c67566",
   "metadata": {},
   "source": [
    "# task-8"
   ]
  },
  {
   "cell_type": "code",
   "execution_count": 1,
   "id": "e40388e1",
   "metadata": {},
   "outputs": [
    {
     "name": "stdout",
     "output_type": "stream",
     "text": [
      "-10,15,2,4,-4,7,-8\n",
      "Two pairs which have the smallest sum = -4 and 4\n"
     ]
    }
   ],
   "source": [
    "list_one=list(map(int,input().split(',')))\n",
    "minimum_value = None\n",
    "first_iteration = True\n",
    "for i in range(len(list_one)):\n",
    "    for j in range(0, len(list_one)):\n",
    "        sum = (list_one[i]+list_one[j])\n",
    "        if i == j:  #Avoids calculating the same item\n",
    "            continue\n",
    "        if first_iteration:  #Assigns minimum value on the first iteration\n",
    "            minimum_value = abs(sum), list_one[i], list_one[j]\n",
    "            first_iteration = False\n",
    "\n",
    "        if abs(sum) < minimum_value[0]: #Finds number closest to zero\n",
    "            minimum_value = abs(sum), list_one[i], list_one[j]\n",
    "print(\"Two pairs which have the smallest sum =\", minimum_value[1], \"and\", minimum_value[2])"
   ]
  },
  {
   "cell_type": "markdown",
   "id": "1a69090a",
   "metadata": {},
   "source": [
    "# task-9"
   ]
  },
  {
   "cell_type": "code",
   "execution_count": 2,
   "id": "6299c158",
   "metadata": {},
   "outputs": [
    {
     "name": "stdout",
     "output_type": "stream",
     "text": [
      "Minimum distance = 1.4142135623730951\n",
      "Here the closest point is (1, 1) which has a distance of 1.4142135623730951 0 from the origin.\n"
     ]
    }
   ],
   "source": [
    "\n",
    "lst= [(1,7), (1,1), (4,5), (5,-1), (-1,7), (-2,0)]\n",
    "tup=lst[0]\n",
    "dis0=(((tup[0])**2)+((tup[1])**2))**0.5\n",
    "ans=dis0\n",
    "for tup in lst:\n",
    "    dis=(((tup[0])**2)+((tup[1])**2))**0.5\n",
    "    if(dis<dis0):\n",
    "        ans=dis\n",
    "        dis0=dis\n",
    "        anstup=tup\n",
    "print('Minimum distance =',ans)\n",
    "print('Here the closest point is',anstup,'which has a distance of',ans,'0 from the origin.')"
   ]
  },
  {
   "cell_type": "code",
   "execution_count": null,
   "id": "52e1954b",
   "metadata": {},
   "outputs": [],
   "source": []
  }
 ],
 "metadata": {
  "kernelspec": {
   "display_name": "Python 3 (ipykernel)",
   "language": "python",
   "name": "python3"
  },
  "language_info": {
   "codemirror_mode": {
    "name": "ipython",
    "version": 3
   },
   "file_extension": ".py",
   "mimetype": "text/x-python",
   "name": "python",
   "nbconvert_exporter": "python",
   "pygments_lexer": "ipython3",
   "version": "3.9.7"
  }
 },
 "nbformat": 4,
 "nbformat_minor": 5
}
